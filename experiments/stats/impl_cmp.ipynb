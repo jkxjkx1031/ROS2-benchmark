{
 "metadata": {
  "language_info": {
   "codemirror_mode": {
    "name": "ipython",
    "version": 3
   },
   "file_extension": ".py",
   "mimetype": "text/x-python",
   "name": "python",
   "nbconvert_exporter": "python",
   "pygments_lexer": "ipython3",
   "version": 3
  },
  "orig_nbformat": 2
 },
 "nbformat": 4,
 "nbformat_minor": 2,
 "cells": [
  {
   "cell_type": "code",
   "execution_count": null,
   "metadata": {},
   "outputs": [],
   "source": [
    "import numpy as numpy\n",
    "import matplotlib.pyplot as plt\n",
    "\n",
    "ros1_topic = np.array([1680.98, 3348.917, 5479.126, 7798.29, 10186.444])\n",
    "ros1_service = np.array([216.119, 374.763, 429.672, 589.859, 604.167])\n",
    "dds = np.array([160.778, 224.93, 256.13, 278.742, 345.42])\n",
    "tcp = np.array([95.029, 129.122, 167.392, 194.005, 222.114])\n",
    "tcp_epoll = np.array([116.135, 135.259, 139.770, 138.346, 158.807])"
   ]
  }
 ]
}